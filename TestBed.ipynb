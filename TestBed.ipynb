{
 "cells": [
  {
   "cell_type": "code",
   "execution_count": null,
   "id": "bb0943a2-ed4a-4161-a90d-e4f48a263fdd",
   "metadata": {},
   "outputs": [],
   "source": [
    "import time\n",
    "\n",
    "import cv2\n",
    "import numpy as np\n",
    "from IPython.display import clear_output, display\n",
    "from matplotlib import pyplot as plt\n",
    "from PIL import Image\n",
    "from python_vnc_client.vnc import Vnc"
   ]
  },
  {
   "cell_type": "code",
   "execution_count": null,
   "id": "65912e01-abde-4e95-877a-338cde5bb7d1",
   "metadata": {},
   "outputs": [],
   "source": [
    "def green_blue_swap(image):\n",
    "    # 3-channel image (no transparency)\n",
    "    if image.shape[-1] == 3:\n",
    "        image = cv2.cvtColor(image, cv2.COLOR_RGB2BGR)\n",
    "    # 4-channel image (with transparency)\n",
    "    elif image.shape[-1] == 4:\n",
    "        image = cv2.cvtColor(image, cv2.COLOR_RGBA2BGR)\n",
    "    return image"
   ]
  },
  {
   "cell_type": "code",
   "execution_count": null,
   "id": "efdfd8b7-13a6-4792-8e4c-c1c408c71de0",
   "metadata": {},
   "outputs": [],
   "source": [
    "def ImageSource(host, port=5900, connected_vnc=None):\n",
    "\n",
    "    if connected_vnc is None:\n",
    "        vnc = Vnc(\n",
    "            host,\n",
    "            port,\n",
    "        )\n",
    "    else:\n",
    "        vnc = connected_vnc\n",
    "    try:\n",
    "        if connected_vnc is None:\n",
    "            vnc.connect()\n",
    "        while True:\n",
    "\n",
    "            try:\n",
    "                image = vnc.capture_screen(False)\n",
    "\n",
    "                data = np.array(image, dtype=np.uint8)\n",
    "                data = green_blue_swap(data)\n",
    "                data = cv2.cvtColor(data, cv2.COLOR_RGB2BGR)\n",
    "                yield data\n",
    "            except Exception as e:\n",
    "                print(e)\n",
    "                break\n",
    "    finally:\n",
    "\n",
    "        if connected_vnc is None:\n",
    "            vnc.close()"
   ]
  },
  {
   "cell_type": "code",
   "execution_count": null,
   "id": "9d2868ee-cea5-4e54-be63-b5c1c785e352",
   "metadata": {},
   "outputs": [],
   "source": [
    "vnc = Vnc(\n",
    "    \"10.0.0.26\",\n",
    "    5900,\n",
    ")\n",
    "vnc.connect()"
   ]
  },
  {
   "cell_type": "code",
   "execution_count": null,
   "id": "4c19172c-b1c0-41de-a5ca-253a8e968d00",
   "metadata": {},
   "outputs": [],
   "source": [
    "for image in ImageSource(\"10.0.0.26\", connected_vnc=vnc):\n",
    "    clear_output()\n",
    "    display(Image.fromarray(image))"
   ]
  },
  {
   "cell_type": "code",
   "execution_count": null,
   "id": "394562d1-cde3-4cdb-9e62-a0e3ddab3d48",
   "metadata": {},
   "outputs": [],
   "source": [
    "vnc.mouse_event(\"Left\", (1192, 150))"
   ]
  },
  {
   "cell_type": "code",
   "execution_count": null,
   "id": "554ca630-3452-4447-b81a-98223d1125b3",
   "metadata": {},
   "outputs": [],
   "source": []
  },
  {
   "cell_type": "code",
   "execution_count": null,
   "id": "9e5cbf75-0d5a-45aa-8dab-7305b7e29381",
   "metadata": {},
   "outputs": [],
   "source": []
  }
 ],
 "metadata": {
  "kernelspec": {
   "display_name": "Python 3 (ipykernel)",
   "language": "python",
   "name": "python3"
  },
  "language_info": {
   "codemirror_mode": {
    "name": "ipython",
    "version": 3
   },
   "file_extension": ".py",
   "mimetype": "text/x-python",
   "name": "python",
   "nbconvert_exporter": "python",
   "pygments_lexer": "ipython3",
   "version": "3.10.4"
  },
  "widgets": {
   "application/vnd.jupyter.widget-state+json": {
    "state": {},
    "version_major": 2,
    "version_minor": 0
   }
  }
 },
 "nbformat": 4,
 "nbformat_minor": 5
}
